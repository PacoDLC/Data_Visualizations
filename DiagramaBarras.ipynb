{
 "cells": [
  {
   "cell_type": "markdown",
   "id": "45455693-d013-44ce-bc93-e0cb0bb195fe",
   "metadata": {},
   "source": [
    "# Diagramas de Barras"
   ]
  },
  {
   "cell_type": "code",
   "execution_count": 1,
   "id": "b1afe02a-f728-4b40-aa00-78343196ba26",
   "metadata": {},
   "outputs": [],
   "source": [
    "import sys\n",
    "import matplotlib\n",
    "# matplotlib.use(\"Agg\")"
   ]
  },
  {
   "cell_type": "code",
   "execution_count": 3,
   "id": "2989275c-04ed-414c-8676-8192f9a77632",
   "metadata": {},
   "outputs": [],
   "source": [
    "import matplotlib.pyplot as plt\n",
    "import numpy as np"
   ]
  },
  {
   "cell_type": "code",
   "execution_count": 5,
   "id": "8ee50297-2a9b-4c5c-8187-c65ea14d9857",
   "metadata": {},
   "outputs": [],
   "source": [
    "x = np.array([\"Terror\", \"Comedia\", \"Acción\"])\n",
    "y = np.array([3, 1, 10])\n",
    "colors = [\"blue\", \"red\", \"aquamarine\"]"
   ]
  },
  {
   "cell_type": "code",
   "execution_count": 7,
   "id": "1eaf3dcf-b318-43a5-95d0-d6034b5a977f",
   "metadata": {},
   "outputs": [
    {
     "data": {
      "image/png": "[encoded data removed]",
      "text/plain": [
       "<Figure size 640x480 with 1 Axes>"
      ]
     },
     "metadata": {},
     "output_type": "display_data"
    }
   ],
   "source": [
    "plt.bar(x , y, color = colors)\n",
    "plt.show()"
   ]
  },
  {
   "cell_type": "code",
   "execution_count": 13,
   "id": "a6f14911-d58d-4a94-b4ea-6a5120c237cd",
   "metadata": {},
   "outputs": [],
   "source": [
    "# plt.savefig(sys.stdout.buffer)\n",
    "sys.stdout.flush()"
   ]
  },
  {
   "cell_type": "code",
   "execution_count": null,
   "id": "aede4493-0fd6-411d-901b-a1385e3f6008",
   "metadata": {},
   "outputs": [],
   "source": []
  }
 ],
 "metadata": {
  "kernelspec": {
   "display_name": "Python 3 (ipykernel)",
   "language": "python",
   "name": "python3"
  },
  "language_info": {
   "codemirror_mode": {
    "name": "ipython",
    "version": 3
   },
   "file_extension": ".py",
   "mimetype": "text/x-python",
   "name": "python",
   "nbconvert_exporter": "python",
   "pygments_lexer": "ipython3",
   "version": "3.11.5"
  }
 },
 "nbformat": 4,
 "nbformat_minor": 5
}
