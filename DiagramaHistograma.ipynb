{
 "cells": [
  {
   "cell_type": "markdown",
   "id": "9c01359e-5280-42c0-9457-6ce270df66e0",
   "metadata": {},
   "source": [
    "# Diagrama de Histograma"
   ]
  },
  {
   "cell_type": "code",
   "execution_count": 2,
   "id": "ec155e09-661f-451c-bd76-3e1753df8ef5",
   "metadata": {},
   "outputs": [],
   "source": [
    "import sys\n",
    "import matplotlib\n",
    "# matplotlib.use(\"Agg\")"
   ]
  },
  {
   "cell_type": "code",
   "execution_count": 4,
   "id": "09f0d26c-baa6-4489-9c66-eb7cf044f5e9",
   "metadata": {},
   "outputs": [],
   "source": [
    "import matplotlib.pyplot as plt\n",
    "import numpy as np"
   ]
  },
  {
   "cell_type": "code",
   "execution_count": 6,
   "id": "e5892b23-04a6-4382-a66f-9fde4ef89ca2",
   "metadata": {},
   "outputs": [],
   "source": [
    "x1 = np.random.normal(20, 10, 100)\n",
    "x2 = np.random.normal(20, 10 ,100)\n",
    "x = [x1, x2]"
   ]
  },
  {
   "cell_type": "code",
   "execution_count": 16,
   "id": "7ad6b0ab-2aa5-4390-b215-b44de35db5e7",
   "metadata": {},
   "outputs": [
    {
     "data": {
      "image/png": "[encoded data removed]",
      "text/plain": [
       "<Figure size 640x480 with 1 Axes>"
      ]
     },
     "metadata": {},
     "output_type": "display_data"
    }
   ],
   "source": [
    "fig, ax = plt.subplots()\n",
    "ax.hist(x, color = [\"darkmagenta\", \"mediumturquoise\"])\n",
    "plt.show()"
   ]
  },
  {
   "cell_type": "code",
   "execution_count": 18,
   "id": "97075d9b-50f4-4fa2-b79d-8eaec7e6a72e",
   "metadata": {},
   "outputs": [],
   "source": [
    "# plt.savefig(sys.stdout.buffer)\n",
    "sys.stdout.flush()"
   ]
  },
  {
   "cell_type": "code",
   "execution_count": null,
   "id": "d8f28a6e-3fb1-4bbe-a17a-f24b15980a24",
   "metadata": {},
   "outputs": [],
   "source": []
  }
 ],
 "metadata": {
  "kernelspec": {
   "display_name": "Python 3 (ipykernel)",
   "language": "python",
   "name": "python3"
  },
  "language_info": {
   "codemirror_mode": {
    "name": "ipython",
    "version": 3
   },
   "file_extension": ".py",
   "mimetype": "text/x-python",
   "name": "python",
   "nbconvert_exporter": "python",
   "pygments_lexer": "ipython3",
   "version": "3.11.5"
  }
 },
 "nbformat": 4,
 "nbformat_minor": 5
}
