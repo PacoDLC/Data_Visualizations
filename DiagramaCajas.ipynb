{
 "cells": [
  {
   "cell_type": "markdown",
   "id": "c3ffd90b-a545-4d19-9687-1a4020be95fc",
   "metadata": {},
   "source": [
    "# Diagrama de Caja"
   ]
  },
  {
   "cell_type": "code",
   "execution_count": 2,
   "id": "be3d4c11-02ea-4ae4-8b00-048356f64dce",
   "metadata": {},
   "outputs": [],
   "source": [
    "import sys\n",
    "import matplotlib\n",
    "# matplotlib.use(\"Agg\")"
   ]
  },
  {
   "cell_type": "code",
   "execution_count": 4,
   "id": "1e58b2d4-54de-41d5-a398-2690779a5a27",
   "metadata": {},
   "outputs": [],
   "source": [
    "import matplotlib.pyplot as plt\n",
    "import numpy as np"
   ]
  },
  {
   "cell_type": "code",
   "execution_count": 6,
   "id": "0782b27c-bf7d-4c5e-b041-582ff81bfad0",
   "metadata": {},
   "outputs": [],
   "source": [
    "np.random.seed(5)"
   ]
  },
  {
   "cell_type": "code",
   "execution_count": 8,
   "id": "2edde5ce-3dc0-48e4-9d52-fbfea7e58a60",
   "metadata": {},
   "outputs": [],
   "source": [
    "x1 = np.random.normal(0, 1, 200)\n",
    "x2 = np.random.normal(1, 1, 250)\n",
    "x3 = np.random.normal(5, 1, 100)\n",
    "x = [x1, x2, x3]"
   ]
  },
  {
   "cell_type": "code",
   "execution_count": 10,
   "id": "95101987-22ba-4314-9363-04cc26056250",
   "metadata": {},
   "outputs": [
    {
     "data": {
      "image/png": "[encoded data removed]",
      "text/plain": [
       "<Figure size 640x480 with 1 Axes>"
      ]
     },
     "metadata": {},
     "output_type": "display_data"
    }
   ],
   "source": [
    "fig, ax = plt.subplots()\n",
    "plt.boxplot(x, whiskerprops = dict(color = \"blue\", linewidth = 2))\n",
    "plt.show()"
   ]
  },
  {
   "cell_type": "code",
   "execution_count": 12,
   "id": "7747a14b-ab9c-4e64-9e39-fa58a18f5726",
   "metadata": {},
   "outputs": [],
   "source": [
    "# plt.savefig(sys.stdout.buffer)\n",
    "sys.stdout.flush()"
   ]
  },
  {
   "cell_type": "code",
   "execution_count": null,
   "id": "97e32397-3619-45d3-bb36-22f2723c30ed",
   "metadata": {},
   "outputs": [],
   "source": []
  }
 ],
 "metadata": {
  "kernelspec": {
   "display_name": "Python 3 (ipykernel)",
   "language": "python",
   "name": "python3"
  },
  "language_info": {
   "codemirror_mode": {
    "name": "ipython",
    "version": 3
   },
   "file_extension": ".py",
   "mimetype": "text/x-python",
   "name": "python",
   "nbconvert_exporter": "python",
   "pygments_lexer": "ipython3",
   "version": "3.11.5"
  }
 },
 "nbformat": 4,
 "nbformat_minor": 5
}
